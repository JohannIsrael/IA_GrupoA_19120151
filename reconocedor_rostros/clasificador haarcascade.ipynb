{
 "cells": [
  {
   "cell_type": "markdown",
   "metadata": {},
   "source": [
    "https://github.com/opencv/opencv/tree/master/data/haarcascades\n",
    "\n",
    "https://opencv-python-tutroals.readthedocs.io/en/latest/py_tutorials/py_objdetect/py_face_detection/py_face_detection.html\n",
    "\n",
    "\n",
    "https://docs.opencv.org/2.4/doc/user_guide/ug_traincascade.html"
   ]
  },
  {
   "cell_type": "code",
   "execution_count": null,
   "metadata": {},
   "outputs": [],
   "source": [
    "import numpy as np\n",
    "import cv2 as cv\n",
    "\n",
    "rostro = cv.CascadeClassifier('haarcascade_frontalface_alt.xml')"
   ]
  },
  {
   "cell_type": "code",
   "execution_count": null,
   "metadata": {},
   "outputs": [],
   "source": [
    "\n",
    "\n",
    "cap = cv.VideoCapture(0)\n",
    "x=y=w=h= 0 \n",
    "img = 0\n",
    "count = 0\n",
    "while True:\n",
    "    ret, frame = cap.read()\n",
    "    gray = cv.cvtColor(frame, cv.COLOR_BGR2GRAY)\n",
    "    rostros = rostro.detectMultiScale(gray, 1.3, 5)\n",
    "    for(x, y, w, h) in rostros:\n",
    "        m= int(h/2)\n",
    "        frame = cv.rectangle(frame, (x,y), (x+w, y+h), (0, 255, 0), 2)\n",
    "       # frame = cv.rectangle(frame, (x,y+m), (x+w, y+h), (255, 0 ,0), 2 )\n",
    "        frame2 = frame[y:y+h, x:x+w]\n",
    "        cv.imshow('rostros2', frame2)\n",
    "        cv.imwrite('./capturas/rostro/'+str(i)+'.png', frame2)\n",
    "       # img = 180- frame[y:y+h,x:x+w]\n",
    "       # count = count + 1   \n",
    "\n",
    "        # !  para que las imágenes tengan el mismo tamaño se debe usar la función resize 100x100 px\n",
    "    #name = '/home/likcos/imgs/cara'+str(count)+'.jpg'\n",
    "    #cv.imwrite(name, frame)\n",
    "    cv.imshow('rostros', frame)\n",
    "    #cv.imshow('cara', img)\n",
    "    i = i+1 \n",
    "    k = cv.waitKey(1)\n",
    "    if k == 27:\n",
    "        break\n",
    "cap.release()\n",
    "cv.destroyAllWindows()\n",
    "    "
   ]
  },
  {
   "cell_type": "code",
   "execution_count": null,
   "metadata": {},
   "outputs": [],
   "source": [
    "pwd\n"
   ]
  },
  {
   "cell_type": "code",
   "execution_count": 1,
   "metadata": {},
   "outputs": [],
   "source": [
    "import cv2 as cv\n",
    "\n",
    "# Cargar el clasificador de Haar para la detección de rostros\n",
    "rostro = cv.CascadeClassifier('haarcascade_frontalface_alt.xml')\n",
    "\n",
    "# Iniciar la captura de vídeo desde la cámara\n",
    "cap = cv.VideoCapture(0)\n",
    "\n",
    "# Contador para el nombre de los archivos de salida\n",
    "i = 0 \n",
    "\n",
    "while True:\n",
    "    # Capturar un fotograma de la cámara\n",
    "    ret, frame = cap.read()\n",
    "    \n",
    "    # Convertir el fotograma a escala de grises\n",
    "    gray = cv.cvtColor(frame, cv.COLOR_BGR2GRAY)\n",
    "    \n",
    "    # Detectar rostros en la imagen en escala de grises\n",
    "    rostros = rostro.detectMultiScale(gray, 1.3, 5)\n",
    "    \n",
    "    # Iterar sobre cada rostro detectado\n",
    "    for(x, y, w, h) in rostros:\n",
    "        # Dibujar un rectángulo alrededor del rostro detectado en el fotograma original\n",
    "        \n",
    "        # Dibujar un rectángulo alrededor del rostro detectado en el fotograma original\n",
    "        frame = cv.rectangle(frame, (x-20, y-20), (x+w+20, y+h+20), (0, 255, 0), 2)\n",
    "\n",
    "        # frame = cv.rectangle(frame, (x, y), (x+w, y+h), (0, 255, 0), 2)\n",
    "        \n",
    "        # Recortar el área del rostro detectado\n",
    "        frame2 = frame[y:y+h, x:x+w]\n",
    "        \n",
    "        # Redimensionar el área del rostro a 100x100 píxeles\n",
    "        frame2 = cv.resize(frame2, (100, 100), interpolation=cv.INTER_AREA)\n",
    "        \n",
    "        # Guardar el rostro redimensionado como una imagen PNG\n",
    "        cv.imwrite('./capturas/rostro/'+str(i)+'.png', frame2)\n",
    "        \n",
    "    # Mostrar el fotograma con los rostros detectados\n",
    "    cv.imshow('Rostros', frame)\n",
    "    \n",
    "    # Incrementar el contador de archivos de salida\n",
    "    i += 1\n",
    "    \n",
    "    # Esperar por la tecla ESC para salir del bucle\n",
    "    k = cv.waitKey(1)\n",
    "    if k == 27:\n",
    "        break\n",
    "\n",
    "# Liberar los recursos de la cámara y cerrar las ventanas\n",
    "cap.release()\n",
    "cv.destroyAllWindows()"
   ]
  }
 ],
 "metadata": {
  "kernelspec": {
   "display_name": "Python 3",
   "language": "python",
   "name": "python3"
  },
  "language_info": {
   "codemirror_mode": {
    "name": "ipython",
    "version": 3
   },
   "file_extension": ".py",
   "mimetype": "text/x-python",
   "name": "python",
   "nbconvert_exporter": "python",
   "pygments_lexer": "ipython3",
   "version": "3.12.3"
  }
 },
 "nbformat": 4,
 "nbformat_minor": 4
}
