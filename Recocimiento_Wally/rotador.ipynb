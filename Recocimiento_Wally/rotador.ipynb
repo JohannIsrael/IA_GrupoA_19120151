{
 "cells": [
  {
   "cell_type": "code",
   "execution_count": 1,
   "metadata": {},
   "outputs": [],
   "source": [
    "import cv2 as cv\n",
    "import numpy as np \n",
    "\n",
    "img = cv.imread('img-wally.png')\n",
    "h,w = img.shape[:2]\n",
    "\n",
    "mw = cv.getRotationMatrix2D((h//2, w//2),30,-1)\n",
    "img2 = cv.warpAffine(img,mw,(h,w))\n",
    "\n",
    "cv.imshow('imagen1', img)\n",
    "cv.imshow('imagen2', img2)\n",
    "cv.waitKey(0)\n",
    "cv.destroyAllWindows()"
   ]
  },
  {
   "cell_type": "markdown",
   "metadata": {},
   "source": [
    "Código para rotar la imágen"
   ]
  }
 ],
 "metadata": {
  "kernelspec": {
   "display_name": "venv",
   "language": "python",
   "name": "python3"
  },
  "language_info": {
   "codemirror_mode": {
    "name": "ipython",
    "version": 3
   },
   "file_extension": ".py",
   "mimetype": "text/x-python",
   "name": "python",
   "nbconvert_exporter": "python",
   "pygments_lexer": "ipython3",
   "version": "3.12.3"
  }
 },
 "nbformat": 4,
 "nbformat_minor": 2
}
