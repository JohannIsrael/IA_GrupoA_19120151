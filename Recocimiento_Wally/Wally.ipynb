{
 "cells": [
  {
   "cell_type": "code",
   "execution_count": null,
   "metadata": {},
   "outputs": [],
   "source": [
    "import os\n",
    "import cv2 as cv\n",
    "import numpy as np\n"
   ]
  },
  {
   "cell_type": "markdown",
   "metadata": {},
   "source": [
    "### Este codigo sirve para rotar las imagenes las rotamos cada 45 grados"
   ]
  },
  {
   "cell_type": "code",
   "execution_count": null,
   "metadata": {},
   "outputs": [],
   "source": [
    "def rotar(img, i):\n",
    "    h, w = img.shape[:2]\n",
    "    mw = cv.getRotationMatrix2D((h//2, w//2), 360, -1)\n",
    "    img2 = cv.warpAffine(img, mw, (h,w))\n",
    "    cv.imwrite('imgs/wallyvolteado'+str(i)+'.png', img2)"
   ]
  },
  {
   "cell_type": "code",
   "execution_count": null,
   "metadata": {},
   "outputs": [],
   "source": [
    "i = 0\n",
    "imgPaths = 'imgs'\n",
    "nomFiles = os.listdir(imgPaths)\n",
    "for nomFile in nomFiles:\n",
    "    i = i+1\n",
    "    imgPath=imgPaths+\"/\"+nomFile\n",
    "    img = cv.imread(imgPath)\n",
    "    rotar(img,i)\n",
    "    #rotarN(img, i) "
   ]
  },
  {
   "cell_type": "markdown",
   "metadata": {},
   "source": [
    "### Esa funcion sirve para poder generar un espejo de una imagen \n",
    "\n"
   ]
  },
  {
   "cell_type": "code",
   "execution_count": null,
   "metadata": {},
   "outputs": [],
   "source": [
    "def espejo(img, i):\n",
    "    # Crea una imagen espejo usando flip\n",
    "    img_espejo = cv.flip(img, 1)\n",
    "    # Guarda la imagen espejo\n",
    "    cv.imwrite('wally/n/espejo'+str(i)+'.png', img_espejo)"
   ]
  },
  {
   "cell_type": "code",
   "execution_count": null,
   "metadata": {},
   "outputs": [],
   "source": [
    "i = 0\n",
    "imgPaths = 'wally/n'\n",
    "nomFiles = os.listdir(imgPaths)\n",
    "for nomFile in nomFiles:\n",
    "    i = i+1\n",
    "    imgPath=imgPaths+\"/\"+nomFile\n",
    "    img = cv.imread(imgPath)\n",
    "    espejo(img, i) "
   ]
  },
  {
   "cell_type": "markdown",
   "metadata": {},
   "source": [
    "### Estos la funcion es para que las imagenes sean del mismo tama;o 50 \n"
   ]
  },
  {
   "cell_type": "code",
   "execution_count": null,
   "metadata": {},
   "outputs": [],
   "source": [
    "def resizeimg(img, i):\n",
    "    frame2 = cv.resize(img, (50,50), interpolation = cv.INTER_AREA)\n",
    "    cv.imwrite('dataset/new_p/positiva'+str(i)+'.png', frame2)"
   ]
  },
  {
   "cell_type": "code",
   "execution_count": null,
   "metadata": {},
   "outputs": [],
   "source": [
    "i = 0\n",
    "imgPaths = 'dataset/positivas'\n",
    "nomFiles = os.listdir(imgPaths)\n",
    "for nomFile in nomFiles:\n",
    "    i = i+1\n",
    "    imgPath=imgPaths+\"/\"+nomFile\n",
    "    img = cv.imread(imgPath)\n",
    "    resizeimg(img, i) "
   ]
  },
  {
   "cell_type": "markdown",
   "metadata": {},
   "source": [
    "### Esta funcion es para convertir las imagenes a escala de grises"
   ]
  },
  {
   "cell_type": "code",
   "execution_count": null,
   "metadata": {},
   "outputs": [],
   "source": [
    "def convert_to_gray(img, i):\n",
    "    frame2 = cv.cvtColor(img, cv.COLOR_BGR2GRAY)\n",
    "    # cv.imwrite('wally/p/wally'+str(i)+'.png', frame2)\n",
    "    cv.imwrite('wally/n/wally'+str(i)+'.png', frame2)"
   ]
  },
  {
   "cell_type": "code",
   "execution_count": null,
   "metadata": {},
   "outputs": [],
   "source": [
    "i = 0\n",
    "#imgPaths = 'img/positivas'\n",
    "imgPaths = 'img/negativas'\n",
    "nomFiles = os.listdir(imgPaths)\n",
    "for nomFile in nomFiles:\n",
    "    i = i+1\n",
    "    imgPath=imgPaths+\"/\"+nomFile\n",
    "    img = cv.imread(imgPath)\n",
    "    convert_to_gray(img, i) "
   ]
  },
  {
   "cell_type": "markdown",
   "metadata": {},
   "source": [
    "### Recortar y agrandar img 50x50"
   ]
  },
  {
   "cell_type": "code",
   "execution_count": null,
   "metadata": {},
   "outputs": [],
   "source": [
    "def crop_and_resize(img, i):\n",
    "    # Cargar la imagen\n",
    "    img = cv.imread(img)\n",
    "\n",
    "    # Recortar 2 píxeles de cada lado\n",
    "    cropped_img = img[2:-3, 2:-3]\n",
    "\n",
    "    # Redimensionar a 50x50 píxeles\n",
    "    resized_img = cv.resize(cropped_img, (50, 50))\n",
    "\n",
    "    # Guardar la imagen resultante\n",
    "    cv.imwrite('wally/p/wallyCrop'+str(i)+'.png', resized_img)"
   ]
  },
  {
   "cell_type": "code",
   "execution_count": null,
   "metadata": {},
   "outputs": [],
   "source": [
    "i = 0\n",
    "imgPaths = 'wally/p'\n",
    "#imgPaths = 'img/negativas'\n",
    "nomFiles = os.listdir(imgPaths)\n",
    "for nomFile in nomFiles:\n",
    "    i = i+1\n",
    "    imgPath=imgPaths+\"/\"+nomFile\n",
    "    img = cv.imread(imgPath)\n",
    "    convert_to_gray(img, i) "
   ]
  },
  {
   "cell_type": "markdown",
   "metadata": {},
   "source": [
    "### Este codigo es para poder juntar imagenes en una carpeta se utilizo para mover las imagenes a la carpeta positivas\n"
   ]
  },
  {
   "cell_type": "code",
   "execution_count": null,
   "metadata": {},
   "outputs": [],
   "source": [
    "import os\n",
    "import shutil\n",
    "\n",
    "# Directorios de entrada y salida\n",
    "input_dirs = ['img/espejo', 'img/voltear',]\n",
    "output_dir = 'img/positivas'\n",
    "\n",
    "# Crea el directorio de salida si no existe\n",
    "if not os.path.exists(output_dir):\n",
    "    os.makedirs(output_dir)\n",
    "\n",
    "# Función para copiar y renombrar archivos\n",
    "def copy_and_rename_files(input_dir, output_dir, prefix):\n",
    "    for filename in os.listdir(input_dir):\n",
    "        if filename.endswith(\".png\"):\n",
    "            # Crea un nuevo nombre de archivo con el prefijo\n",
    "            new_filename = prefix + '_' + filename\n",
    "            # Copia y renombra el archivo en el directorio de salida\n",
    "            shutil.copy(os.path.join(input_dir, filename), os.path.join(output_dir, new_filename))\n",
    "\n",
    "# Copia y renombra los archivos de las cinco carpetas\n",
    "for i, input_dir in enumerate(input_dirs, 1):\n",
    "    copy_and_rename_files(input_dir, output_dir, f'wally{i}')\n",
    "\n",
    "print(\"¡Todas las imágenes han sido copiadas y renombradas!\")\n",
    "\n"
   ]
  },
  {
   "cell_type": "markdown",
   "metadata": {},
   "source": [
    "### Codigo para generar las imagenes negativas de wally \n",
    "\n",
    "se utilizaron 5 imagenes para poder generar las diferentes imagenes"
   ]
  },
  {
   "cell_type": "code",
   "execution_count": null,
   "metadata": {},
   "outputs": [],
   "source": [
    "import cv2\n",
    "import os\n",
    "\n",
    "# Abre la imagen\n",
    "img = cv2.imread('img/notWally/negativa6.jpg')\n",
    "\n",
    "# Obtiene las dimensiones de la imagen\n",
    "height, width = img.shape[:2]\n",
    "\n",
    "# Define el tamaño de las sub-imágenes\n",
    "sub_width, sub_height = 50, 50\n",
    "\n",
    "# Crea el directorio de salida si no existe\n",
    "output_dir = 'img/negativas/'\n",
    "if not os.path.exists(output_dir):\n",
    "    os.makedirs(output_dir)\n",
    "\n",
    "# Recorre la imagen creando las sub-imágenes\n",
    "i = 0\n",
    "for y in range(height-sub_height, -1, -sub_height):\n",
    "    for x in range(width-sub_width, -1, -sub_width):\n",
    "        # Crea la sub-imagen\n",
    "        sub_img = img[y:y+sub_height, x:x+sub_width]\n",
    "        # Guarda la sub-imagen\n",
    "        cv2.imwrite(os.path.join(output_dir, f'notWally_6_{i}.png'), sub_img)\n",
    "        i += 1\n",
    "        # Si ya se han creado 350 sub-imágenes, termina el proceso\n",
    "        if i >= 500:\n",
    "            break\n",
    "    if i >= 500:\n",
    "        break\n",
    "\n",
    "\n",
    "print(\"¡Las sub-imágenes han sido creadas y guardadas!\")\n",
    "\n",
    "\n"
   ]
  },
  {
   "cell_type": "code",
   "execution_count": 1,
   "metadata": {},
   "outputs": [
    {
     "name": "stdout",
     "output_type": "stream",
     "text": [
      "Hay 430 archivos en la carpeta new_dataset/n.\n",
      "Hay 120 archivos en la carpeta new_dataset/p.\n"
     ]
    }
   ],
   "source": [
    "import os\n",
    "\n",
    "# Especifica la ruta de las carpetas\n",
    "folderP_path = 'new_dataset/p'\n",
    "folder_path = 'new_dataset/n'\n",
    "\n",
    "# Obtiene una lista de todos los archivos en cada carpeta\n",
    "files = [f for f in os.listdir(folder_path) if os.path.isfile(os.path.join(folder_path, f))]\n",
    "filesP = [f for f in os.listdir(folderP_path) if os.path.isfile(os.path.join(folderP_path, f))]\n",
    "\n",
    "# Cuenta todos los archivos\n",
    "num_files = len(files)\n",
    "num_filesP = len(filesP)\n",
    "\n",
    "print(f'Hay {num_files} archivos en la carpeta {folder_path}.')\n",
    "print(f'Hay {num_filesP} archivos en la carpeta {folderP_path}.')\n"
   ]
  },
  {
   "cell_type": "markdown",
   "metadata": {},
   "source": [
    "# carga xml"
   ]
  },
  {
   "cell_type": "code",
   "execution_count": 7,
   "metadata": {},
   "outputs": [],
   "source": [
    "import numpy as np\n",
    "import cv2 as cv    \n",
    "import math\n",
    "\n",
    "wally = cv.CascadeClassifier('classifier2/cascade.xml')\n",
    "# wally = cv.CascadeClassifier('new_dataset/classifier/cascade.xml')\n",
    "\n",
    "frame = cv.imread('pruebas/where-is-wally5.png')\n",
    "\n",
    "gray = cv.cvtColor(frame, cv.COLOR_BGR2GRAY)\n",
    "\n",
    "#Ajuste de vecinos\n",
    "# wallys = wally.detectMultiScale(gray, 1.2, 5)\n",
    "wallys = wally.detectMultiScale(gray, 1.02, 50)\n",
    "# wallys = wally.detectMultiScale(gray, 1.3, 5)\n",
    "\n",
    "for (x, y, w, h) in wallys:\n",
    "    frame = cv.rectangle(frame, (x,y), (x+w, y+h), (0, 255, 0), 2)\n",
    "\n",
    "cv.imwrite('pruebas/imgs/wally7.jpg', frame)\n",
    "cv.imshow('Wally', frame)\n",
    "\n",
    "cv.waitKey(0)\n",
    "cv.destroyAllWindows()"
   ]
  }
 ],
 "metadata": {
  "kernelspec": {
   "display_name": "venv",
   "language": "python",
   "name": "python3"
  },
  "language_info": {
   "codemirror_mode": {
    "name": "ipython",
    "version": 3
   },
   "file_extension": ".py",
   "mimetype": "text/x-python",
   "name": "python",
   "nbconvert_exporter": "python",
   "pygments_lexer": "ipython3",
   "version": "3.12.3"
  }
 },
 "nbformat": 4,
 "nbformat_minor": 2
}
