{
 "cells": [
  {
   "cell_type": "code",
   "execution_count": null,
   "metadata": {},
   "outputs": [],
   "source": [
    "import os\n",
    "import cv2 as cv\n",
    "import numpy as np\n"
   ]
  },
  {
   "cell_type": "markdown",
   "metadata": {},
   "source": [
    "### Rotar 45° las imágenes"
   ]
  },
  {
   "cell_type": "code",
   "execution_count": null,
   "metadata": {},
   "outputs": [],
   "source": [
    "def rotar(img, i):\n",
    "    h, w = img.shape[:2]\n",
    "    mw = cv.getRotationMatrix2D((h//2, w//2), 360, -1)\n",
    "    img2 = cv.warpAffine(img, mw, (h,w))\n",
    "    cv.imwrite('imgs/wallyrotado'+str(i)+'.png', img2)"
   ]
  },
  {
   "cell_type": "code",
   "execution_count": null,
   "metadata": {},
   "outputs": [],
   "source": [
    "i = 0\n",
    "imgPaths = 'imgs'\n",
    "nomFiles = os.listdir(imgPaths)\n",
    "for nomFile in nomFiles:\n",
    "    i = i+1\n",
    "    imgPath=imgPaths+\"/\"+nomFile\n",
    "    img = cv.imread(imgPath)\n",
    "    rotar(img,i)\n",
    "    #rotarN(img, i) "
   ]
  },
  {
   "cell_type": "markdown",
   "metadata": {},
   "source": [
    "### generar un espejo de una imagen \n",
    "\n"
   ]
  },
  {
   "cell_type": "code",
   "execution_count": null,
   "metadata": {},
   "outputs": [],
   "source": [
    "def espejo(img, i):\n",
    "    # Crea una imagen espejo usando flip\n",
    "    img_espejo = cv.flip(img, 1)\n",
    "    # Guarda la imagen espejo\n",
    "    cv.imwrite('wally/n/espejo'+str(i)+'.png', img_espejo)"
   ]
  },
  {
   "cell_type": "code",
   "execution_count": null,
   "metadata": {},
   "outputs": [],
   "source": [
    "i = 0\n",
    "imgPaths = 'wally/n'\n",
    "nomFiles = os.listdir(imgPaths)\n",
    "for nomFile in nomFiles:\n",
    "    i = i+1\n",
    "    imgPath=imgPaths+\"/\"+nomFile\n",
    "    img = cv.imread(imgPath)\n",
    "    espejo(img, i) "
   ]
  },
  {
   "cell_type": "markdown",
   "metadata": {},
   "source": [
    "### redimensiona la imágenes a 50x50\n"
   ]
  },
  {
   "cell_type": "code",
   "execution_count": null,
   "metadata": {},
   "outputs": [],
   "source": [
    "def resizeimg(img, i):\n",
    "    frame2 = cv.resize(img, (50,50), interpolation = cv.INTER_AREA)\n",
    "    cv.imwrite('dataset/new_p/positiva'+str(i)+'.png', frame2)"
   ]
  },
  {
   "cell_type": "code",
   "execution_count": null,
   "metadata": {},
   "outputs": [],
   "source": [
    "i = 0\n",
    "imgPaths = 'dataset/positivas'\n",
    "nomFiles = os.listdir(imgPaths)\n",
    "for nomFile in nomFiles:\n",
    "    i = i+1\n",
    "    imgPath=imgPaths+\"/\"+nomFile\n",
    "    img = cv.imread(imgPath)\n",
    "    resizeimg(img, i) "
   ]
  },
  {
   "cell_type": "markdown",
   "metadata": {},
   "source": [
    "### convertir las imagenes a escala de grises"
   ]
  },
  {
   "cell_type": "code",
   "execution_count": null,
   "metadata": {},
   "outputs": [],
   "source": [
    "def convert_to_gray(img, i):\n",
    "    frame2 = cv.cvtColor(img, cv.COLOR_BGR2GRAY)\n",
    "    cv.imwrite('new_dataset/n/wally'+str(i)+'.png', frame2)"
   ]
  },
  {
   "cell_type": "code",
   "execution_count": null,
   "metadata": {},
   "outputs": [],
   "source": [
    "i = 0\n",
    "imgPaths = 'img/n'\n",
    "nomFiles = os.listdir(imgPaths)\n",
    "for nomFile in nomFiles:\n",
    "    i = i+1\n",
    "    imgPath=imgPaths+\"/\"+nomFile\n",
    "    img = cv.imread(imgPath)\n",
    "    convert_to_gray(img, i) \n"
   ]
  },
  {
   "cell_type": "markdown",
   "metadata": {},
   "source": [
    "### Codigo para generar las imagenes negativas "
   ]
  },
  {
   "cell_type": "code",
   "execution_count": null,
   "metadata": {},
   "outputs": [],
   "source": [
    "import cv2\n",
    "import os\n",
    "\n",
    "# Abre la imagen\n",
    "img = cv2.imread('img/notWally/negativa6.jpg')\n",
    "\n",
    "# Obtiene las dimensiones de la imagen\n",
    "height, width = img.shape[:2]\n",
    "\n",
    "# Define el tamaño de las sub-imágenes\n",
    "sub_width, sub_height = 50, 50\n",
    "\n",
    "# Crea el directorio de salida si no existe\n",
    "output_dir = 'img/negativas/'\n",
    "if not os.path.exists(output_dir):\n",
    "    os.makedirs(output_dir)\n",
    "\n",
    "# Recorre la imagen creando las sub-imágenes\n",
    "i = 0\n",
    "for y in range(height-sub_height, -1, -sub_height):\n",
    "    for x in range(width-sub_width, -1, -sub_width):\n",
    "        # Crea la sub-imagen\n",
    "        sub_img = img[y:y+sub_height, x:x+sub_width]\n",
    "        # Guarda la sub-imagen\n",
    "        cv2.imwrite(os.path.join(output_dir, f'nWally_6_{i}.png'), sub_img)\n",
    "        i += 1\n",
    "        # Si ya se han creado 350 sub-imágenes, termina el proceso\n",
    "        if i >= 500:\n",
    "            break\n",
    "    if i >= 500:\n",
    "        break\n",
    "\n",
    "\n",
    "print(\"¡Las sub-imágenes han sido creadas y guardadas!\")\n",
    "\n",
    "\n"
   ]
  },
  {
   "cell_type": "markdown",
   "metadata": {},
   "source": [
    "### Contar el total de arhivos"
   ]
  },
  {
   "cell_type": "code",
   "execution_count": 1,
   "metadata": {},
   "outputs": [
    {
     "name": "stdout",
     "output_type": "stream",
     "text": [
      "Hay 430 archivos en la carpeta new_dataset/n.\n",
      "Hay 120 archivos en la carpeta new_dataset/p.\n"
     ]
    }
   ],
   "source": [
    "import os\n",
    "\n",
    "# Especifica la ruta de las carpetas\n",
    "folderP_path = 'new_dataset/p'\n",
    "folder_path = 'new_dataset/n'\n",
    "\n",
    "# Obtiene una lista de todos los archivos en cada carpeta\n",
    "files = [f for f in os.listdir(folder_path) if os.path.isfile(os.path.join(folder_path, f))]\n",
    "filesP = [f for f in os.listdir(folderP_path) if os.path.isfile(os.path.join(folderP_path, f))]\n",
    "\n",
    "# Cuenta todos los archivos\n",
    "num_files = len(files)\n",
    "num_filesP = len(filesP)\n",
    "\n",
    "print(f'Hay {num_files} archivos en la carpeta {folder_path}.')\n",
    "print(f'Hay {num_filesP} archivos en la carpeta {folderP_path}.')\n"
   ]
  },
  {
   "cell_type": "markdown",
   "metadata": {},
   "source": [
    "# carga xml"
   ]
  },
  {
   "cell_type": "code",
   "execution_count": 30,
   "metadata": {},
   "outputs": [],
   "source": [
    "import numpy as np\n",
    "import cv2 as cv    \n",
    "import math\n",
    "\n",
    "wally = cv.CascadeClassifier('new_dataset/cascade.xml')\n",
    "# wally = cv.CascadeClassifier('new_dataset/classifier/cascade.xml')\n",
    "\n",
    "frame = cv.imread('pruebas/where-is-wally7.png')\n",
    "\n",
    "gray = cv.cvtColor(frame, cv.COLOR_BGR2GRAY)\n",
    "\n",
    "#Ajuste de vecinos\n",
    "# wallys = wally.detectMultiScale(gray, 1.2, 5)\n",
    "wallys = wally.detectMultiScale(gray, 1.03, 30)\n",
    "# wallys = wally.detectMultiScale(gray, 1.3, 5)\n",
    "\n",
    "for (x, y, w, h) in wallys:\n",
    "    frame = cv.rectangle(frame, (x,y), (x+w, y+h), (0, 255, 0), 2)\n",
    "\n",
    "cv.imwrite('pruebas/imgs/wally9.jpg', frame)\n",
    "cv.imshow('Wally', frame)\n",
    "\n",
    "cv.waitKey(0)\n",
    "cv.destroyAllWindows()"
   ]
  }
 ],
 "metadata": {
  "kernelspec": {
   "display_name": "venv",
   "language": "python",
   "name": "python3"
  },
  "language_info": {
   "codemirror_mode": {
    "name": "ipython",
    "version": 3
   },
   "file_extension": ".py",
   "mimetype": "text/x-python",
   "name": "python",
   "nbconvert_exporter": "python",
   "pygments_lexer": "ipython3",
   "version": "3.12.3"
  }
 },
 "nbformat": 4,
 "nbformat_minor": 2
}
