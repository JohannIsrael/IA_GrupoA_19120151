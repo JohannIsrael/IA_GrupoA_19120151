{
 "cells": [
  {
   "cell_type": "code",
   "execution_count": 1,
   "metadata": {},
   "outputs": [],
   "source": [
    "import numpy as np\n",
    "import cv2 as cv\n",
    "import math \n",
    "import os"
   ]
  },
  {
   "cell_type": "code",
   "execution_count": 10,
   "metadata": {},
   "outputs": [],
   "source": [
    "\n",
    "\n",
    "cap = cv.VideoCapture(\"videos/tornado5.mp4\")\n",
    "i=0\n",
    "while True:\n",
    "    ret, frame = cap.read()\n",
    "    if ret:\n",
    "        cv.imshow('img', frame)\n",
    "        k = cv.waitKey(30)  # Aumenta este valor para hacer que el video se reproduzca más lento\n",
    "        if k == ord('a'):\n",
    "            i=i+1    \n",
    "            cv.imwrite('imgs/riesgo/tornado'+str(1804 + i)+'.jpg', frame )\n",
    "            \n",
    "        if k == 27:\n",
    "            break\n",
    "    else:\n",
    "        break\n",
    "cap.release()\n",
    "cv.destroyAllWindows()\n",
    "\n"
   ]
  },
  {
   "cell_type": "markdown",
   "metadata": {},
   "source": [
    "modificar el tamanio de las imagenes\n"
   ]
  },
  {
   "cell_type": "code",
   "execution_count": 3,
   "metadata": {},
   "outputs": [
    {
     "data": {
      "text/plain": [
       "'c:\\\\Users\\\\Johann Israel\\\\Documents\\\\ITM\\\\Semestre 9\\\\IA\\\\CNN'"
      ]
     },
     "execution_count": 3,
     "metadata": {},
     "output_type": "execute_result"
    }
   ],
   "source": [
    "pwd"
   ]
  },
  {
   "cell_type": "code",
   "execution_count": 4,
   "metadata": {},
   "outputs": [],
   "source": [
    "def resizeimg(img, i):\n",
    "    frame2 = cv.resize(img, (28,21), interpolation = cv.INTER_AREA)\n",
    "    # cv.imwrite('imgs/riezgoR/tornado'+str(i)+'.png', frame2)\n",
    "    cv.imwrite('riesgos/tornados/tornado'+str(i)+'.png', frame2)"
   ]
  },
  {
   "cell_type": "code",
   "execution_count": 5,
   "metadata": {},
   "outputs": [],
   "source": [
    "i = 0\n",
    "imgPaths = 'imgs/riesgo'\n",
    "nomFiles = os.listdir(imgPaths)\n",
    "for nomFile in nomFiles:\n",
    "    i = i+1\n",
    "    imgPath=imgPaths+\"/\"+nomFile\n",
    "    img = cv.imread(imgPath)\n",
    "    resizeimg(img, i) "
   ]
  },
  {
   "cell_type": "code",
   "execution_count": 6,
   "metadata": {},
   "outputs": [],
   "source": [
    "def espejo(img, i):\n",
    "    # Crea una imagen espejo usando flip\n",
    "    img_espejo = cv.flip(img, 1)\n",
    "    # Guarda la imagen espejo\n",
    "    cv.imwrite('riesgos/tornados/espejo'+str(i)+'.png', img_espejo)"
   ]
  },
  {
   "cell_type": "code",
   "execution_count": 8,
   "metadata": {},
   "outputs": [],
   "source": [
    "i = 0\n",
    "imgPaths = 'riesgos/tornados'\n",
    "nomFiles = os.listdir(imgPaths)\n",
    "for nomFile in nomFiles:\n",
    "    i = i+1\n",
    "    imgPath=imgPaths+\"/\"+nomFile\n",
    "    img = cv.imread(imgPath)\n",
    "    espejo(img, i) "
   ]
  },
  {
   "cell_type": "code",
   "execution_count": 103,
   "metadata": {},
   "outputs": [],
   "source": [
    "def crop_and_resize(img, i):\n",
    "    # Cargar la imagen\n",
    "    img = cv.imread(img)\n",
    "\n",
    "    # Recortar 2 píxeles de cada lado\n",
    "    cropped_img = img[2:-3, 2:-3]\n",
    "\n",
    "    # Redimensionar a 50x50 píxeles\n",
    "    resized_img = cv.resize(cropped_img, (28, 21))\n",
    "\n",
    "    # Guardar la imagen resultante\n",
    "    cv.imwrite('riesgos/asaltos/asaltoCrop'+str(i)+'.png', resized_img)"
   ]
  },
  {
   "cell_type": "code",
   "execution_count": 102,
   "metadata": {},
   "outputs": [],
   "source": [
    "i = 0\n",
    "imgPaths = 'riesgos/asaltos'\n",
    "nomFiles = os.listdir(imgPaths)\n",
    "for nomFile in nomFiles:\n",
    "    i = i+1\n",
    "    imgPath=imgPaths+\"/\"+nomFile\n",
    "    img = cv.imread(imgPath)\n",
    "    convert_to_gray(img, i) "
   ]
  },
  {
   "cell_type": "code",
   "execution_count": 122,
   "metadata": {},
   "outputs": [],
   "source": [
    "from PIL import Image\n",
    "import os\n",
    "import cv2 as cv\n",
    "\n",
    "def convertImg(imgPath, i):\n",
    "    # Abre la imagen .png\n",
    "    img = Image.open(imgPath)\n",
    "\n",
    "    # Convierte la imagen a RGB (para evitar problemas con imágenes RGBA)\n",
    "    img_rgb = img.convert('RGB')\n",
    "\n",
    "    # Guarda la imagen en formato .jpg\n",
    "    img_rgb.save('riesgos/tornados/tornado'+str(i)+'.jpg')\n",
    "\n"
   ]
  },
  {
   "cell_type": "code",
   "execution_count": 123,
   "metadata": {},
   "outputs": [],
   "source": [
    "\n",
    "\n",
    "i = 0\n",
    "imgPaths = 'riesgos/tornados'\n",
    "nomFiles = os.listdir(imgPaths)\n",
    "for nomFile in nomFiles:\n",
    "    i = i+1\n",
    "    imgPath=imgPaths+\"/\"+nomFile\n",
    "    convertImg(imgPath, i)\n"
   ]
  },
  {
   "cell_type": "code",
   "execution_count": 124,
   "metadata": {},
   "outputs": [],
   "source": [
    "import os\n",
    "\n",
    "# Directorio donde están las imágenes\n",
    "img_dir = 'riesgos/tornados'\n",
    "\n",
    "# Lista de todos los archivos en el directorio\n",
    "files = os.listdir(img_dir)\n",
    "\n",
    "# Recorre todos los archivos\n",
    "for file in files:\n",
    "    # Si el archivo es una imagen .png\n",
    "    if file.endswith('.png'):\n",
    "        # Construye la ruta completa del archivo\n",
    "        file_path = os.path.join(img_dir, file)\n",
    "        # Elimina el archivo\n",
    "        os.remove(file_path)\n"
   ]
  },
  {
   "cell_type": "markdown",
   "metadata": {},
   "source": [
    "i = 0\n",
    "imgPaths = 'riesgos/asaltos'\n",
    "nomFiles = os.listdir(imgPaths)\n",
    "for nomFile in nomFiles:\n",
    "    i = i+1\n",
    "    imgPath=imgPaths+\"/\"+nomFile\n",
    "    img = cv.imread(imgPath)\n",
    "    convert_to_gray(img, i)"
   ]
  },
  {
   "cell_type": "code",
   "execution_count": null,
   "metadata": {},
   "outputs": [],
   "source": [
    "from skimage.transform import resize\n",
    "\n",
    "images=[]\n",
    "# AQUI ESPECIFICAMOS UNAS IMAGENES\n",
    "#filenames = ['test/asalto6.jpg']\n",
    "filenames = ['test/incendio.jpg']\n",
    "# filenames = ['test/inundacion1.jpg']\n",
    "# filenames = ['test/tornado3.jpg']\n",
    "\n",
    "resultado = \" \"\n",
    "frame = cv.imread(filenames[0])\n",
    "\n",
    "for filepath in filenames:\n",
    "    image = plt.imread(filepath,0)\n",
    "    image_resized = resize(image, (28, 21),anti_aliasing=True,clip=False,preserve_range=True)\n",
    "    images.append(image_resized)\n",
    "\n",
    "X = np.array(images, dtype=np.uint8) #convierto de lista a numpy\n",
    "test_X = X.astype('float32')\n",
    "test_X = test_X / 255.\n",
    "\n",
    "predicted_classes = sport_model.predict(test_X)\n",
    "\n",
    "for i, img_tagged in enumerate(predicted_classes):\n",
    "    print(filenames[i], deportes[img_tagged.tolist().index(max(img_tagged))])\n",
    "    resultado = deportes[img_tagged.tolist().index(max(img_tagged))]\n",
    "    \n",
    "print(resultado)\n",
    "    \n",
    "cv.imshow(\"La situacion de riesgo es:    -\"+resultado, frame)\n",
    "cv.waitKey(0)\n",
    "cv.destroyAllWindows()"
   ]
  }
 ],
 "metadata": {
  "kernelspec": {
   "display_name": "Python 3",
   "language": "python",
   "name": "python3"
  },
  "language_info": {
   "codemirror_mode": {
    "name": "ipython",
    "version": 3
   },
   "file_extension": ".py",
   "mimetype": "text/x-python",
   "name": "python",
   "nbconvert_exporter": "python",
   "pygments_lexer": "ipython3",
   "version": "3.12.3"
  }
 },
 "nbformat": 4,
 "nbformat_minor": 2
}
